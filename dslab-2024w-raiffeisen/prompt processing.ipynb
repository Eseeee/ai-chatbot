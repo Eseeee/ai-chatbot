{
 "cells": [
  {
   "cell_type": "code",
   "execution_count": 7,
   "id": "2e5e7f5b-e6a6-4399-9539-f217381ee985",
   "metadata": {},
   "outputs": [
    {
     "data": {
      "text/plain": [
       "'Öffne die ELBA App logge dich ein wähle dein Konto aus klicke auf Funktionen dann auf Debitkarte verwalten wähle deine Karte aus klicke auf Debitkarte sperren gib einen Sperrgrund ein und bestätige mit der PushTAN..'"
      ]
     },
     "execution_count": 7,
     "metadata": {},
     "output_type": "execute_result"
    }
   ],
   "source": [
    "\"\"\"Öffne die ELBA App, logge dich ein, wähle dein Konto aus, klicke auf \"Funktionen\", dann auf \"Debitkarte verwalten\", wähle deine Karte aus, klicke auf \"Debitkarte sperren\", gib einen Sperrgrund ein und bestätige mit der PushTAN..\"\"\".replace(\",\",\"\").replace('\"','').replace('\\n','')"
   ]
  },
  {
   "cell_type": "code",
   "execution_count": null,
   "id": "5741e5ba-30a5-4216-9a09-e2f6b198ece6",
   "metadata": {},
   "outputs": [],
   "source": []
  }
 ],
 "metadata": {
  "kernelspec": {
   "display_name": "Python 3 (ipykernel)",
   "language": "python",
   "name": "python3"
  },
  "language_info": {
   "codemirror_mode": {
    "name": "ipython",
    "version": 3
   },
   "file_extension": ".py",
   "mimetype": "text/x-python",
   "name": "python",
   "nbconvert_exporter": "python",
   "pygments_lexer": "ipython3",
   "version": "3.10.8"
  }
 },
 "nbformat": 4,
 "nbformat_minor": 5
}
