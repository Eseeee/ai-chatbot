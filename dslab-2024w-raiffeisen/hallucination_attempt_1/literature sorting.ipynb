{
 "cells": [
  {
   "cell_type": "code",
   "execution_count": 6,
   "id": "292915fe-f0a0-4c2d-b6a1-a367b7c6ec29",
   "metadata": {},
   "outputs": [],
   "source": [
    "myList = [\"White, J., Fu, Q., Hays, S., Sandborn, M., Olea, C., Gilbert, H., ... & Schmidt, D. C. (2023). A prompt pattern catalog to enhance prompt engineering with chatgpt. arXiv preprint arXiv:2302.11382.\",\n",
    "        \"Belgiu, M., & Drăguţ, L. (2016). Random forest in remote sensing: A review of applications and future directions. ISPRS journal of photogrammetry and remote sensing, 114, 24-31.\",\n",
    "        \"Adamopoulou, E., & Moussiades, L. (2020). An overview of chatbot technology. In IFIP international conference on artificial intelligence applications and innovations (pp. 373-383). Springer, Cham.\",\n",
    "        \"Cahn, J. (2017). CHATBOT: Architecture, design, & development. University of Pennsylvania School of Engineering and Applied Science Department of Computer and Information Science.\",\n",
    "        \"Kumar, V., & Subba, B. (2020, February). A TfidfVectorizer and SVM based sentiment analysis framework for text data corpus. In 2020 national conference on communications (NCC) (pp. 1-6). IEEE.\",\n",
    "        \"Eshan, S. C., & Hasan, M. S. (2017, December). An application of machine learning to detect abusive bengali text. In 2017 20th International Conference of Computer and Information Technology (ICCIT) (pp. 1-6). IEEE.\",\n",
    "        \"Turki, T., & Roy, S. S. (2022). Novel hate speech detection using word cloud visualization and ensemble learning coupled with count vectorizer. Applied Sciences, 12(13), 6611.\",\n",
    "        \"Webson, A., & Pavlick, E. (2021). Do prompt-based models really understand the meaning of their prompts?. arXiv preprint arXiv:2109.01247.\",\n",
    "        \"Ma, S. P., & Ho, C. T. (2018). Modularized and Flow-Based Approach to Chatbot Design and Deployment. Journal of Information Science & Engineering, 34(5).\",\n",
    "        \"Deng, J., & Lin, Y. (2022). The benefits and challenges of ChatGPT: An overview. Frontiers in Computing and Intelligent Systems, 2(2), 81-83.\",\n",
    "        \"Sharma, H. K., & Kshitiz, K. (2018, June). Nlp and machine learning techniques for detecting insulting comments on social networking platforms. In 2018 International conference on advances in computing and communication engineering (ICACCE) (pp. 265-272). IEEE.\",\n",
    "        \"Chakrabarty, N. (2020). A machine learning approach to comment toxicity classification. In Computational Intelligence in Pattern Recognition: Proceedings of CIPR 2019 (pp. 183-193). Springer Singapore.\",\n",
    "        \"Hacker, P., Engel, A., & Mauer, M. (2023, June). Regulating ChatGPT and other large generative AI models. In Proceedings of the 2023 ACM Conference on Fairness, Accountability, and Transparency (pp. 1112-1123).\",\n",
    "        \"Alkaissi, H., & McFarlane, S. I. (2023). Artificial hallucinations in ChatGPT: implications in scientific writing. Cureus, 15(2).\",\n",
    "        \"Eren, B. A. (2021). Determinants of customer satisfaction in chatbot use: evidence from a banking application in Turkey. International Journal of Bank Marketing, 39(2), 294-311.\",\n",
    "        \"Suhel, S. F., Shukla, V. K., Vyas, S., & Mishra, V. P. (2020, June). Conversation to automation in banking through chatbot using artificial machine intelligence language. In 2020 8th international conference on reliability, infocom technologies and optimization (trends and future directions)(ICRITO) (pp. 611-618). IEEE.\"\n",
    "       ]"
   ]
  },
  {
   "cell_type": "code",
   "execution_count": 10,
   "id": "da5bd3cd-cdf5-4517-8767-91c4381b4765",
   "metadata": {},
   "outputs": [
    {
     "ename": "SyntaxError",
     "evalue": "Missing parentheses in call to 'print'. Did you mean print(...)? (3255368500.py, line 2)",
     "output_type": "error",
     "traceback": [
      "\u001b[0;36m  Cell \u001b[0;32mIn[10], line 2\u001b[0;36m\u001b[0m\n\u001b[0;31m    print i\u001b[0m\n\u001b[0m    ^\u001b[0m\n\u001b[0;31mSyntaxError\u001b[0m\u001b[0;31m:\u001b[0m Missing parentheses in call to 'print'. Did you mean print(...)?\n"
     ]
    }
   ],
   "source": [
    "for i in sorted(myList):\n",
    "    print(i)"
   ]
  },
  {
   "cell_type": "code",
   "execution_count": null,
   "id": "5083019d-b4a2-4104-b141-690c7b2e4cdd",
   "metadata": {},
   "outputs": [],
   "source": []
  }
 ],
 "metadata": {
  "kernelspec": {
   "display_name": "Python 3 (ipykernel)",
   "language": "python",
   "name": "python3"
  },
  "language_info": {
   "codemirror_mode": {
    "name": "ipython",
    "version": 3
   },
   "file_extension": ".py",
   "mimetype": "text/x-python",
   "name": "python",
   "nbconvert_exporter": "python",
   "pygments_lexer": "ipython3",
   "version": "3.10.8"
  }
 },
 "nbformat": 4,
 "nbformat_minor": 5
}
