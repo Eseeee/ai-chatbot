{
 "cells": [
  {
   "cell_type": "markdown",
   "id": "51c63262-f59d-46d6-828a-0778d2a46ae1",
   "metadata": {},
   "source": [
    "### First attempt at combating hallucination:\n",
    "1. We are training a random forest classifier with possible insults in order to detect if the chatbot possibly returns unwanted messages.\n",
    "2. This is merely an test attempt, for better results a wider data set is needed and more tuning(feature selection, different models, split testing, better/different feature extraction)"
   ]
  },
  {
   "cell_type": "code",
   "execution_count": 1,
   "id": "460333a0-fa64-4545-adc7-cbc70bfdbddd",
   "metadata": {},
   "outputs": [],
   "source": [
    "import sklearn as sk\n",
    "from sklearn.ensemble import RandomForestClassifier\n",
    "from sklearn.feature_extraction.text import CountVectorizer, TfidfTransformer\n",
    "from sklearn.model_selection import train_test_split\n",
    "from sklearn.feature_selection import SelectFpr, chi2\n",
    "from nltk.corpus import stopwords\n",
    "import pandas as pd\n",
    "import numpy as np\n",
    "import pickle as pk"
   ]
  },
  {
   "cell_type": "code",
   "execution_count": 2,
   "id": "fd1191e2-1b17-4624-8f7f-e54cbeb9d639",
   "metadata": {},
   "outputs": [],
   "source": [
    "myDF = pd.read_csv(\"hallucination.csv\",delimiter=\",\")"
   ]
  },
  {
   "cell_type": "code",
   "execution_count": 3,
   "id": "62f9315b-c7dc-4d9e-a395-8eae251b9068",
   "metadata": {},
   "outputs": [
    {
     "data": {
      "text/plain": [
       "'Wenn ich mich umbringen wollte würde ich dein Ego erklimmen und zu deinem IQ springen.'"
      ]
     },
     "execution_count": 3,
     "metadata": {},
     "output_type": "execute_result"
    }
   ],
   "source": [
    "myDF[\"texte\"][1]"
   ]
  },
  {
   "cell_type": "code",
   "execution_count": 4,
   "id": "33672d37-333a-45f6-8e02-675b563f5317",
   "metadata": {},
   "outputs": [],
   "source": [
    "#Functions\n",
    "german_stop_words = stopwords.words('german')\n",
    "cv = CountVectorizer(stop_words = german_stop_words)\n",
    "tfd = TfidfTransformer()\n",
    "fpr = SelectFpr(chi2, alpha= 0.4)"
   ]
  },
  {
   "cell_type": "code",
   "execution_count": 5,
   "id": "b1e87a79-4d68-4f21-add6-77ad0fd70752",
   "metadata": {},
   "outputs": [],
   "source": [
    "myDF_1 = tfd.fit_transform(cv.fit_transform(myDF[\"texte\"]))\n",
    "myDF_1 = pd.DataFrame(myDF_1.toarray())\n",
    "myDF_1.columns = map(lambda x: str(x), list(myDF_1.columns))"
   ]
  },
  {
   "cell_type": "code",
   "execution_count": 6,
   "id": "40f57d08-b4ec-47af-99e0-98127c859266",
   "metadata": {},
   "outputs": [],
   "source": [
    "X_train, X_test, y_train, y_test = train_test_split(myDF_1, myDF[\"halluzination\"], test_size=1/3, random_state=42)"
   ]
  },
  {
   "cell_type": "code",
   "execution_count": 7,
   "id": "e3994fdc-f064-429d-8db6-0029b6d1ad3b",
   "metadata": {},
   "outputs": [],
   "source": [
    "selected_columns = fpr.fit(X_train,y_train).get_feature_names_out()\n",
    "X_train = X_train[selected_columns]"
   ]
  },
  {
   "cell_type": "code",
   "execution_count": 8,
   "id": "01124193-6e59-4d39-89db-49c47a0a6a33",
   "metadata": {},
   "outputs": [],
   "source": [
    "rf_model = RandomForestClassifier()\n",
    "rf_fit = rf_model.fit(X_train, y_train)"
   ]
  },
  {
   "cell_type": "code",
   "execution_count": 9,
   "id": "22bc23ab-06ae-4f3f-ba6d-f3e6d53b575e",
   "metadata": {},
   "outputs": [
    {
     "data": {
      "text/plain": [
       "0.8461538461538461"
      ]
     },
     "execution_count": 9,
     "metadata": {},
     "output_type": "execute_result"
    }
   ],
   "source": [
    "rf_fit.score(X_test[selected_columns],y_test)"
   ]
  },
  {
   "cell_type": "code",
   "execution_count": 10,
   "id": "a54b17f6-fbb7-4d18-b7b2-a59742877268",
   "metadata": {},
   "outputs": [],
   "source": [
    "pck_list = [rf_fit,cv.vocabulary_,selected_columns]\n",
    "with open(\"rf_model.txt\",\"wb\") as file:\n",
    "    pk.dump(pck_list,file)"
   ]
  },
  {
   "cell_type": "code",
   "execution_count": 11,
   "id": "13185499-4ece-4fd6-bbae-5891a862d13f",
   "metadata": {},
   "outputs": [],
   "source": [
    "with open(\"rf_model.txt\",\"rb\") as file:\n",
    "    model_items = pk.load(file)"
   ]
  },
  {
   "cell_type": "code",
   "execution_count": 12,
   "id": "3c219988-7504-4c2c-8799-4fc0b27582f8",
   "metadata": {},
   "outputs": [
    {
     "data": {
      "text/plain": [
       "0.8461538461538461"
      ]
     },
     "execution_count": 12,
     "metadata": {},
     "output_type": "execute_result"
    }
   ],
   "source": [
    "model_items[0].score(X_test[model_items[2]],y_test)"
   ]
  }
 ],
 "metadata": {
  "kernelspec": {
   "display_name": "Python 3 (ipykernel)",
   "language": "python",
   "name": "python3"
  },
  "language_info": {
   "codemirror_mode": {
    "name": "ipython",
    "version": 3
   },
   "file_extension": ".py",
   "mimetype": "text/x-python",
   "name": "python",
   "nbconvert_exporter": "python",
   "pygments_lexer": "ipython3",
   "version": "3.10.8"
  }
 },
 "nbformat": 4,
 "nbformat_minor": 5
}
