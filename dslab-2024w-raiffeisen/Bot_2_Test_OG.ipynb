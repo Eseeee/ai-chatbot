{
 "cells": [
  {
   "cell_type": "code",
   "execution_count": 2,
   "id": "d71e1a70-abd5-4a72-8812-85e5bd50df57",
   "metadata": {},
   "outputs": [],
   "source": [
    "import constants.constants as constants\n",
    "import prompts.prompt_classifier as prompt_classifier\n",
    "import prompts.prompt_banking as prompt_banking\n",
    "import prompts.prompt_cards as prompt_card\n",
    "import prompts.prompt_oeffnungszeiten as prompt_oeffnungszeiten\n",
    "import functions.functions as functions\n",
    "\n",
    "from langchain.chat_models import ChatOpenAI\n",
    "from langchain.schema import AIMessage, HumanMessage, SystemMessage\n",
    "from langchain.tools import tool\n",
    "from langchain.agents import initialize_agent\n",
    "from langchain.agents import AgentType"
   ]
  },
  {
   "cell_type": "code",
   "execution_count": 3,
   "id": "53a037c1-d8e8-426e-80fb-dfe69dfa9caf",
   "metadata": {},
   "outputs": [],
   "source": [
    "chat = ChatOpenAI(openai_api_key=constants.OPENAI_API_KEY)\n",
    "\n",
    "\n",
    "@tool\n",
    "def debit_card_information(question):\n",
    "    \"\"\"Beantwortet Fragen zu dem Thema: Sperren von Bankomat-, Debit- und Kreditkarten.\"\"\"\n",
    "    messages = [\n",
    "        SystemMessage(content=prompt_card.prompt_cards),\n",
    "        HumanMessage(content=question)\n",
    "    ]\n",
    "    #return chat.batch([messages,messages,messages,messages])\n",
    "    return chat.predict_messages(messages)\n",
    "@tool\n",
    "def banking_information(question):\n",
    "    \"\"\"Beantwortet Fragen zu dem Thema: Sperren des Online-Bankings.\"\"\"\n",
    "    messages = [\n",
    "        SystemMessage(content=prompt_banking.prompt_banking),\n",
    "        HumanMessage(content=question)\n",
    "    ]\n",
    "    #return chat.batch([messages,messages,messages,messages])\n",
    "    return chat.predict_messages(messages)\n",
    "\n"
   ]
  },
  {
   "cell_type": "code",
   "execution_count": 4,
   "id": "7b5c3c4f-b152-4a83-8e7a-0a530477509a",
   "metadata": {},
   "outputs": [],
   "source": [
    "## wir arbeiten hier\n",
    "@tool\n",
    "def information_regarding_branches(question):\n",
    "    \"\"\"Beantwortet Fragen zu dem Thema: Bankfilialen (Öffnungszeiten, Ausstattung, etc.)\"\"\"\n",
    "    messages = [\n",
    "        SystemMessage(content=prompt_oeffnungszeiten.prompt_oeffnungszeiten),\n",
    "        HumanMessage(content=question)\n",
    "    ]\n",
    "\n",
    "    #return chat.batch([messages,messages,messages,messages])\n",
    "    #batch funktion zum testen\n",
    "    return chat.predict_messages(messages)\n"
   ]
  },
  {
   "cell_type": "code",
   "execution_count": 5,
   "id": "4a0cc207-4ef9-4a40-beee-f9816781ef4b",
   "metadata": {},
   "outputs": [
    {
     "name": "stdout",
     "output_type": "stream",
     "text": [
      "Hier ist der Chatbot der Raiffeisenlandesbank Niederösterreich-Wien. Gerne beantworte ich Ihre Fragen zur Sperre von Debit- und Kreditkarten sowie zur Sperre des Online-Bankings.\n",
      "\n",
      "\n",
      "\u001b[1m> Entering new AgentExecutor chain...\u001b[0m\n",
      "\u001b[32;1m\u001b[1;3mHallo! Wie kann ich Ihnen weiterhelfen?\u001b[0m\n",
      "\n",
      "\u001b[1m> Finished chain.\u001b[0m\n",
      "Hallo! Wie kann ich Ihnen weiterhelfen?\n",
      "1.527177095413208\n",
      "Hier ist der Chatbot der Raiffeisenlandesbank Niederösterreich-Wien. Gerne beantworte ich Ihre Fragen zur Sperre von Debit- und Kreditkarten sowie zur Sperre des Online-Bankings.\n",
      "\n",
      "\n",
      "\u001b[1m> Entering new AgentExecutor chain...\u001b[0m\n",
      "\u001b[32;1m\u001b[1;3m\n",
      "Invoking: `information_regarding_branches` with `{'question': 'Wie viel Uhr macht ihr auf?'}`\n",
      "\n",
      "\n",
      "\u001b[0m\u001b[38;5;200m\u001b[1;3mcontent='Die Raiffeisenbank Filialen haben unterschiedliche Öffnungszeiten. Die meisten Filialen öffnen um 8:00 Uhr.'\u001b[0m\u001b[32;1m\u001b[1;3mDie meisten Filialen der Raiffeisenlandesbank Niederösterreich-Wien öffnen um 8:00 Uhr.\u001b[0m\n",
      "\n",
      "\u001b[1m> Finished chain.\u001b[0m\n",
      "Die meisten Filialen der Raiffeisenlandesbank Niederösterreich-Wien öffnen um 8:00 Uhr.\n",
      "3.838313102722168\n",
      "Hier ist der Chatbot der Raiffeisenlandesbank Niederösterreich-Wien. Gerne beantworte ich Ihre Fragen zur Sperre von Debit- und Kreditkarten sowie zur Sperre des Online-Bankings.\n",
      "\n",
      "\n",
      "\u001b[1m> Entering new AgentExecutor chain...\u001b[0m\n",
      "\u001b[32;1m\u001b[1;3mWie kann ich Ihnen behilflich sein?\u001b[0m\n",
      "\n",
      "\u001b[1m> Finished chain.\u001b[0m\n",
      "Wie kann ich Ihnen behilflich sein?\n",
      "0.7160592079162598\n",
      "Hier ist der Chatbot der Raiffeisenlandesbank Niederösterreich-Wien. Gerne beantworte ich Ihre Fragen zur Sperre von Debit- und Kreditkarten sowie zur Sperre des Online-Bankings.\n"
     ]
    }
   ],
   "source": [
    "import time\n",
    "tools = [debit_card_information, banking_information, information_regarding_branches]\n",
    "while True:\n",
    "    messages = [\n",
    "        SystemMessage(content=prompt_classifier.system_message),\n",
    "        first_ai_msg := AIMessage(content=\"Hier ist der Chatbot der Raiffeisenlandesbank Niederösterreich-Wien. Gerne beantworte ich Ihre Fragen zur Sperre von Debit- und Kreditkarten sowie zur Sperre des Online-Bankings.\"),\n",
    "    ]\n",
    "\n",
    "\n",
    "    print(first_ai_msg.content)\n",
    "    question_of_user = str(input(\"\"))\n",
    "    \n",
    "    start = time.time()\n",
    "    messages.append(HumanMessage(content=question_of_user))\n",
    "\n",
    "    mrkl = initialize_agent(tools, chat, agent=AgentType.OPENAI_FUNCTIONS, verbose=True)\n",
    "    \n",
    "    print(mrkl.run(messages))\n",
    "\n",
    "    end = time.time()\n",
    "\n",
    "    print(end - start)"
   ]
  },
  {
   "cell_type": "code",
   "execution_count": null,
   "id": "c51cbefd-3bcc-4a36-ac93-ee848d37c389",
   "metadata": {},
   "outputs": [],
   "source": []
  },
  {
   "cell_type": "markdown",
   "id": "72e0e056-080d-4278-9c09-af9a2a6c1aed",
   "metadata": {},
   "source": []
  },
  {
   "cell_type": "code",
   "execution_count": null,
   "id": "00ecb1b6-a494-419c-b670-360631d401b8",
   "metadata": {},
   "outputs": [],
   "source": []
  }
 ],
 "metadata": {
  "kernelspec": {
   "display_name": "Python 3 (ipykernel)",
   "language": "python",
   "name": "python3"
  },
  "language_info": {
   "codemirror_mode": {
    "name": "ipython",
    "version": 3
   },
   "file_extension": ".py",
   "mimetype": "text/x-python",
   "name": "python",
   "nbconvert_exporter": "python",
   "pygments_lexer": "ipython3",
   "version": "3.12.1"
  }
 },
 "nbformat": 4,
 "nbformat_minor": 5
}
