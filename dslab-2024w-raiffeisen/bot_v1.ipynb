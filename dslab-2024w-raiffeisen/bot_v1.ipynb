{
 "cells": [
  {
   "cell_type": "markdown",
   "id": "cbead9e1-8bbb-4f2c-915f-cce237fa7947",
   "metadata": {},
   "source": [
    "Dieser Bot kann Fragen zur Sperre von Kredit- und Debitkarten sowie vom Online-Banking beantworten.\n",
    "Es ist noch kein Chatbot, er kann nur einmalig auf Fragen antworten."
   ]
  },
  {
   "cell_type": "code",
   "execution_count": 1,
   "id": "f181f4b2-ea89-46be-85af-cd00440b421a",
   "metadata": {},
   "outputs": [],
   "source": [
    "!pip install openai -q\n",
    "!pip install langchain -q"
   ]
  },
  {
   "cell_type": "code",
   "execution_count": 2,
   "id": "ed1d8ca8-2d60-4e41-bcc4-0981778797da",
   "metadata": {},
   "outputs": [],
   "source": [
    "MODEL = \"gpt-4\""
   ]
  },
  {
   "cell_type": "code",
   "execution_count": 3,
   "id": "0b02954d-9ea1-4b52-a3e6-6c9e7a3111d9",
   "metadata": {},
   "outputs": [],
   "source": [
    "# Importing packages by third parties\n",
    "import openai\n",
    "from langchain.prompts import PromptTemplate\n",
    "from langchain.chat_models import ChatOpenAI\n",
    "from langchain.prompts import HumanMessagePromptTemplate\n",
    "from langchain.schema.messages import SystemMessage\n",
    "from langchain.chat_models import ChatOpenAI\n",
    "from langchain.prompts import ChatPromptTemplate\n",
    "import json"
   ]
  },
  {
   "cell_type": "code",
   "execution_count": 4,
   "id": "c8269edd-d1c1-4776-838d-5953e5c16b79",
   "metadata": {},
   "outputs": [],
   "source": [
    "# Importing packages created by us\n",
    "import constants.constants as constants\n",
    "import prompts.prompt_banking as prompt_banking\n",
    "import prompts.prompt_cards as prompt_cards\n",
    "import functions.functions as functions"
   ]
  },
  {
   "cell_type": "code",
   "execution_count": 5,
   "id": "413341b3-ffa6-4a6b-977b-a31182866cab",
   "metadata": {},
   "outputs": [],
   "source": [
    "question_of_user = \"Wie kann ich meine Kreditkarte sperren lassen?\""
   ]
  },
  {
   "cell_type": "code",
   "execution_count": 6,
   "id": "de2076cc-10ee-4c80-8356-dd21c3489593",
   "metadata": {},
   "outputs": [],
   "source": [
    "# Instantiating the model\n",
    "completion = openai.ChatCompletion.create(\n",
    "    model = MODEL,\n",
    "    api_key = constants.OPENAI_API_KEY,\n",
    "    # For better understanding, the list of functions has been defined in functions/functions.py\n",
    "    functions = functions.function_definition,\n",
    "    messages = [\n",
    "        {\n",
    "            \"role\": \"system\",\n",
    "            \"content\": \"\"\"\n",
    "            Du bist ein Chatbot, der auf der Website der 'Raiffeisen Bank Wien Niederösterreich' implementiert ist. Du beachstest folgende Regeln:\n",
    "            \n",
    "            (1) Du beantwortest NUR Fragen zur Sperrung von Debit- oder Kreditkarten oder zur Sperrung des Online-Bankings.\n",
    "            (2) Du beantwortest NUR Fragen, wenn du dir absolut sicher bist.\n",
    "            (3) Um die Fragen zu beantworten, rufst du die entsprechenden Funktionen auf. Die Fragen, die du an die Funktionen weitergibst, müssen vollständig ausformuliert sein.\n",
    "            \"\"\"\n",
    "        },\n",
    "        {\n",
    "            \"role\":\"user\",\n",
    "            \"content\": question_of_user\n",
    "        \n",
    "        }\n",
    "        \n",
    "    ],\n",
    "    # randomness as low as possible\n",
    "    temperature = 0\n",
    ")"
   ]
  },
  {
   "cell_type": "code",
   "execution_count": 7,
   "id": "c0635bb7-1077-48cd-9e33-b284a3c9033d",
   "metadata": {},
   "outputs": [
    {
     "data": {
      "text/plain": [
       "<OpenAIObject chat.completion id=chatcmpl-8EImFGiCTwaZgl9Dd3P2UbNaPuo4Q at 0x7f1bc4f36020> JSON: {\n",
       "  \"id\": \"chatcmpl-8EImFGiCTwaZgl9Dd3P2UbNaPuo4Q\",\n",
       "  \"object\": \"chat.completion\",\n",
       "  \"created\": 1698419463,\n",
       "  \"model\": \"gpt-4-0613\",\n",
       "  \"choices\": [\n",
       "    {\n",
       "      \"index\": 0,\n",
       "      \"message\": {\n",
       "        \"role\": \"assistant\",\n",
       "        \"content\": null,\n",
       "        \"function_call\": {\n",
       "          \"name\": \"debit_card_information\",\n",
       "          \"arguments\": \"{\\n  \\\"question\\\": \\\"Wie kann ich meine Kreditkarte sperren lassen?\\\"\\n}\"\n",
       "        }\n",
       "      },\n",
       "      \"finish_reason\": \"function_call\"\n",
       "    }\n",
       "  ],\n",
       "  \"usage\": {\n",
       "    \"prompt_tokens\": 294,\n",
       "    \"completion_tokens\": 27,\n",
       "    \"total_tokens\": 321\n",
       "  }\n",
       "}"
      ]
     },
     "execution_count": 7,
     "metadata": {},
     "output_type": "execute_result"
    }
   ],
   "source": [
    "completion"
   ]
  },
  {
   "cell_type": "markdown",
   "id": "5ad2df4b-8a8f-4201-bfeb-e5ad6d9532f4",
   "metadata": {},
   "source": [
    "Es wird ein OpenAIObject zurückgegeben. Auf die oben gestellte reagiert es, indem es die folgende Funktion aufrufen will mit folgendem Inhalt aufrufen will:"
   ]
  },
  {
   "cell_type": "code",
   "execution_count": 8,
   "id": "19fba0b9-7439-4b7f-ab2b-50e0d6fa24d6",
   "metadata": {},
   "outputs": [
    {
     "name": "stdout",
     "output_type": "stream",
     "text": [
      "Wie kann ich meine Kreditkarte sperren lassen?\n",
      "Funktion:\n",
      "{\n",
      "  \"name\": \"debit_card_information\",\n",
      "  \"arguments\": \"{\\n  \\\"question\\\": \\\"Wie kann ich meine Kreditkarte sperren lassen?\\\"\\n}\"\n",
      "}\n"
     ]
    }
   ],
   "source": [
    "print(question_of_user)\n",
    "#print(completion[\"choices\"][0][\"message\"])\n",
    "\n",
    "print(\"Funktion:\")\n",
    "print(completion[\"choices\"][0][\"message\"][\"function_call\"])"
   ]
  },
  {
   "cell_type": "markdown",
   "id": "8401624f-cd10-4f70-9a23-3f79e05546a1",
   "metadata": {},
   "source": [
    "### Definition of functions and LLM used by functions\n",
    "Concerning the blocking of debit credit cards"
   ]
  },
  {
   "cell_type": "code",
   "execution_count": 9,
   "id": "339245b2-6fb2-4835-8edc-dc2283caaf78",
   "metadata": {},
   "outputs": [],
   "source": [
    "llm = ChatOpenAI(openai_api_key = constants.OPENAI_API_KEY)"
   ]
  },
  {
   "cell_type": "code",
   "execution_count": 10,
   "id": "cbf83985-4f5a-4518-a00b-7915e8ccba9a",
   "metadata": {},
   "outputs": [],
   "source": [
    "def debit_card_information(question):\n",
    "    \"\"\"Beantwortet Fragen zu dem Thema: Sperren von Bankomat-, Debit- und Kreditkarten.\"\"\"\n",
    "    chat_template = ChatPromptTemplate.from_messages(\n",
    "        [\n",
    "            SystemMessage(\n",
    "                content=(prompt_cards.prompt_cards)\n",
    "            ),\n",
    "            HumanMessagePromptTemplate.from_template(\"Die Frage des Nutzers lautet:\\n{text}\"),\n",
    "        ]\n",
    "    )\n",
    "    return llm(chat_template.format_messages(text=question))\n"
   ]
  },
  {
   "cell_type": "markdown",
   "id": "330710c3-cb32-4dd4-9191-fab034afee59",
   "metadata": {},
   "source": [
    "Concerning the blocking of online banking"
   ]
  },
  {
   "cell_type": "code",
   "execution_count": 11,
   "id": "c5d14348-2e44-48ac-92d1-96e1f4d333e3",
   "metadata": {},
   "outputs": [],
   "source": [
    "def banking_information(question):\n",
    "    \"\"\"Beantwortet Fragen zu dem Thema: Sperren des Online-Bankings.\"\"\"\n",
    "    chat_template = ChatPromptTemplate.from_messages(\n",
    "        [\n",
    "            SystemMessage(\n",
    "                content=(prompt_banking.prompt_banking)\n",
    "            ),\n",
    "            HumanMessagePromptTemplate.from_template(\"Die Frage des Nutzers lautet:\\n{text}\"),\n",
    "        ]\n",
    "    )\n",
    "    return llm(chat_template.format_messages(text=question))"
   ]
  },
  {
   "cell_type": "code",
   "execution_count": 12,
   "id": "b33f20f0-d732-47cc-8f42-6b6295a4b620",
   "metadata": {},
   "outputs": [],
   "source": [
    "completion = completion[\"choices\"][0][\"message\"]"
   ]
  },
  {
   "cell_type": "code",
   "execution_count": 13,
   "id": "25359960-98f8-4ad8-8cc2-90f6993d319a",
   "metadata": {},
   "outputs": [],
   "source": [
    "if completion.get(\"function_call\"):\n",
    "    function_name = eval(completion[\"function_call\"][\"name\"])\n",
    "    question = json.loads(completion[\"function_call\"][\"arguments\"]).get(\"question\")\n",
    "    \n",
    "    function_response = function_name(question)"
   ]
  },
  {
   "cell_type": "code",
   "execution_count": 14,
   "id": "9760c463-432a-46fc-9300-ff1957ad0800",
   "metadata": {},
   "outputs": [
    {
     "name": "stdout",
     "output_type": "stream",
     "text": [
      "debit_card_information\n",
      "Wie kann ich meine Kreditkarte sperren lassen?\n",
      "Du kannst deine Kreditkarte sperren lassen:\n",
      "(1) Über die Sperrhotline unter +43 599 320 32.\n",
      "(2) Über die ELBA-APP: Logge dich ein, wähle dein Konto, gehe zu \"Debitkarte verwalten\", wähle die Karte aus und klicke auf \"Debitkarte sperren\". Gib einen Sperrgrund ein und bestätige mit dem PushTAN.\n",
      "(3) Über das Online Banking \"MEIN ELBA\": Logge dich ein, gehe zu \"Karten\", wähle die Karte aus, gehe zu \"Kartenverwaltung\" und klicke auf \"Karte sperren\". Wähle \"Debitkarte sperren\", gib einen Sperrgrund ein und bestätige mit dem PushTAN.\n"
     ]
    }
   ],
   "source": [
    "print(function_name.__name__)\n",
    "print(question)\n",
    "print(function_response.content)"
   ]
  },
  {
   "cell_type": "code",
   "execution_count": 17,
   "id": "679ac602-c479-40ca-a489-e518fc181a2c",
   "metadata": {},
   "outputs": [
    {
     "data": {
      "text/plain": [
       "'\\ncompletion2 = openai.ChatCompletion.create(\\n    model = MODEL,\\n    api_key = constants.OPENAI_API_KEY,\\n    messages = [\\n        {\\n            \"role\": \"system\",\\n            \"content\": \"Du bist ein Chatbot, der auf der Website einer Bank implementiert ist. Du beantwortest NUR Fragen zur Sperrung von Debit- oder Kreditkarten oder zur Sperrung des Online-Bankings. Du beantwortest NUR Fragen, wenn du dir absolut sicher bist. Um die Fragen zu beantworten, rufst du die entsprechenden Funktionen auf. Die Fragen, die du an die Funktionen weitergibst, müssen vollständig ausformuliert sein.\"\\n        },\\n        {\\n            \"role\":\"user\",\\n            \"content\": question_of_user\\n        \\n        },\\n        {\\n            \"role\":\"function\",\\n            \"name\": function_name.__name__,\\n            \"content\":function_response.content\\n        }\\n        \\n    ],\\n    temperature = 0\\n\\n)\\nprint(completion2)\\n'"
      ]
     },
     "execution_count": 17,
     "metadata": {},
     "output_type": "execute_result"
    }
   ],
   "source": [
    "\"\"\"\n",
    "completion2 = openai.ChatCompletion.create(\n",
    "    model = MODEL,\n",
    "    api_key = constants.OPENAI_API_KEY,\n",
    "    messages = [\n",
    "        {\n",
    "            \"role\": \"system\",\n",
    "            \"content\": \"Du bist ein Chatbot, der auf der Website einer Bank implementiert ist. Du beantwortest NUR Fragen zur Sperrung von Debit- oder Kreditkarten oder zur Sperrung des Online-Bankings. Du beantwortest NUR Fragen, wenn du dir absolut sicher bist. Um die Fragen zu beantworten, rufst du die entsprechenden Funktionen auf. Die Fragen, die du an die Funktionen weitergibst, müssen vollständig ausformuliert sein.\"\n",
    "        },\n",
    "        {\n",
    "            \"role\":\"user\",\n",
    "            \"content\": question_of_user\n",
    "        \n",
    "        },\n",
    "        {\n",
    "            \"role\":\"function\",\n",
    "            \"name\": function_name.__name__,\n",
    "            \"content\":function_response.content\n",
    "        }\n",
    "        \n",
    "    ],\n",
    "    temperature = 0\n",
    "\n",
    ")\n",
    "print(completion2)\n",
    "\"\"\""
   ]
  }
 ],
 "metadata": {
  "kernelspec": {
   "display_name": "Python 3 (ipykernel)",
   "language": "python",
   "name": "python3"
  },
  "language_info": {
   "codemirror_mode": {
    "name": "ipython",
    "version": 3
   },
   "file_extension": ".py",
   "mimetype": "text/x-python",
   "name": "python",
   "nbconvert_exporter": "python",
   "pygments_lexer": "ipython3",
   "version": "3.10.8"
  }
 },
 "nbformat": 4,
 "nbformat_minor": 5
}
