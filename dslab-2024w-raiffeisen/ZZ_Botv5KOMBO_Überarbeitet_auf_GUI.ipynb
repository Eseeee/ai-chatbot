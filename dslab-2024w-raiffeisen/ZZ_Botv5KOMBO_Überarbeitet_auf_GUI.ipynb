{
 "cells": [
  {
   "cell_type": "code",
   "execution_count": 2,
   "id": "d71e1a70-abd5-4a72-8812-85e5bd50df57",
   "metadata": {},
   "outputs": [],
   "source": [
    "import pandas as pd\n",
    "import pickle as pk\n",
    "import constants.constants as constants\n",
    "import prompts.prompt_classifier as prompt_classifier\n",
    "import prompts.prompt_banking as prompt_banking\n",
    "import prompts.prompt_cards as prompt_card\n",
    "import prompts.prompt_oeffnungszeiten as prompt_oeffnungszeiten\n",
    "from langchain_experimental.agents.agent_toolkits import create_pandas_dataframe_agent\n",
    "\n",
    "from langchain.chat_models import ChatOpenAI\n",
    "from langchain.schema import AIMessage, HumanMessage, SystemMessage\n",
    "from langchain.tools import tool\n",
    "from langchain.agents import initialize_agent\n",
    "from langchain.agents import AgentType, Tool\n",
    "from langchain.prompts import MessagesPlaceholder\n",
    "from langchain.memory import ConversationBufferMemory, ConversationSummaryMemory"
   ]
  },
  {
   "cell_type": "code",
   "execution_count": 3,
   "id": "440a532b-e566-4c87-8da5-6009748b036d",
   "metadata": {},
   "outputs": [],
   "source": [
    "with open(\"./database/pd_frame.txt\",\"rb\") as file:\n",
    "    pd_DF = pk.load(file)"
   ]
  },
  {
   "cell_type": "code",
   "execution_count": 4,
   "id": "53a037c1-d8e8-426e-80fb-dfe69dfa9caf",
   "metadata": {},
   "outputs": [
    {
     "name": "stderr",
     "output_type": "stream",
     "text": [
      "c:\\Users\\North\\AppData\\Local\\Programs\\Python\\Python312\\Lib\\site-packages\\langchain_core\\_api\\deprecation.py:117: LangChainDeprecationWarning: The class `langchain_community.chat_models.openai.ChatOpenAI` was deprecated in langchain-community 0.1.0 and will be removed in 0.2.0. Use langchain_openai.ChatOpenAI instead.\n",
      "  warn_deprecated(\n"
     ]
    }
   ],
   "source": [
    "chat = ChatOpenAI(openai_api_key=constants.OPENAI_API_KEY)\n",
    "\n",
    "@tool\n",
    "def card_information(question):\n",
    "    \"\"\"Beantwortet Fragen zu dem Thema: Sperren von Bankomat-, Debit- und Kreditkarten.\"\"\"\n",
    "    messages = [\n",
    "        SystemMessage(content=prompt_card.prompt_cards),\n",
    "        HumanMessage(content=question)\n",
    "    ]\n",
    "\n",
    "    return chat.predict_messages(messages)\n",
    "\n",
    "\n",
    "@tool\n",
    "def banking_information(question):\n",
    "    \"\"\"Beantwortet Fragen zu dem Thema: Sperren des Online-Bankings.\"\"\"\n",
    "    messages = [\n",
    "        SystemMessage(content=prompt_banking.prompt_banking),\n",
    "        HumanMessage(content=question)\n",
    "    ]\n",
    "\n",
    "    return chat.predict_messages(messages)\n",
    "\n",
    "\n",
    "@tool\n",
    "def information_regarding_branches(question):\n",
    "    \"\"\"Beantwortet Fragen zu dem Thema: Bankfilialen (Öffnungszeiten, Ausstattung, etc.)\"\"\"\n",
    "    df_context = \"Basierend auf dem Schema des DataFrames 'df' beantworte die folgende Frage so gut du kannst, beachte dass Filialnamen nicht vollständig sind und gib alle Zeiten an:\"\n",
    "    agent = create_pandas_dataframe_agent(\n",
    "    ChatOpenAI(temperature=0, model=constants.MODEL,openai_api_key=constants.OPENAI_API_KEY),\n",
    "    pd_DF,\n",
    "    verbose=True,\n",
    "    agent_type=AgentType.OPENAI_FUNCTIONS,\n",
    "    )\n",
    "    return agent.run(df_context+question)"
   ]
  },
  {
   "cell_type": "code",
   "execution_count": 5,
   "id": "be60fc24-1158-48c6-8e3c-47ba6cc7f6cf",
   "metadata": {},
   "outputs": [],
   "source": [
    "tools = [card_information, banking_information, information_regarding_branches]"
   ]
  },
  {
   "cell_type": "code",
   "execution_count": 1,
   "id": "6e10deff-1ce3-4709-a94f-4727def45da4",
   "metadata": {},
   "outputs": [
    {
     "ename": "NameError",
     "evalue": "name 'MessagesPlaceholder' is not defined",
     "output_type": "error",
     "traceback": [
      "\u001b[1;31m---------------------------------------------------------------------------\u001b[0m",
      "\u001b[1;31mNameError\u001b[0m                                 Traceback (most recent call last)",
      "Cell \u001b[1;32mIn[1], line 2\u001b[0m\n\u001b[0;32m      1\u001b[0m agent_kwargs \u001b[38;5;241m=\u001b[39m {\n\u001b[1;32m----> 2\u001b[0m     \u001b[38;5;124m\"\u001b[39m\u001b[38;5;124mextra_prompt_messages\u001b[39m\u001b[38;5;124m\"\u001b[39m: [\u001b[43mMessagesPlaceholder\u001b[49m(variable_name\u001b[38;5;241m=\u001b[39m\u001b[38;5;124m\"\u001b[39m\u001b[38;5;124mmemory\u001b[39m\u001b[38;5;124m\"\u001b[39m)],\n\u001b[0;32m      3\u001b[0m }\n\u001b[0;32m      4\u001b[0m memory \u001b[38;5;241m=\u001b[39m ConversationBufferMemory(memory_key\u001b[38;5;241m=\u001b[39m\u001b[38;5;124m\"\u001b[39m\u001b[38;5;124mmemory\u001b[39m\u001b[38;5;124m\"\u001b[39m, return_messages\u001b[38;5;241m=\u001b[39m\u001b[38;5;28;01mTrue\u001b[39;00m)\n\u001b[0;32m      6\u001b[0m memory\u001b[38;5;241m.\u001b[39mchat_memory\u001b[38;5;241m.\u001b[39madd_message(SystemMessage(content\u001b[38;5;241m=\u001b[39mprompt_classifier\u001b[38;5;241m.\u001b[39msystem_message))\n",
      "\u001b[1;31mNameError\u001b[0m: name 'MessagesPlaceholder' is not defined"
     ]
    }
   ],
   "source": [
    "agent_kwargs = {\n",
    "    \"extra_prompt_messages\": [MessagesPlaceholder(variable_name=\"memory\")],\n",
    "}\n",
    "memory = ConversationBufferMemory(memory_key=\"memory\", return_messages=True)\n",
    "\n",
    "memory.chat_memory.add_message(SystemMessage(content=prompt_classifier.system_message))\n",
    "memory.chat_memory.add_message(first_ai_msg := AIMessage(content=\"Hier ist der Chatbot der Raiffeisenlandesbank Niederösterreich-Wien. Gerne beantworte ich Ihre Fragen zur Sperre von Karten sowie zur Ausstattung von Filialen.\"))\n",
    "\n",
    "#print(first_ai_msg.content)\n",
    "\n",
    "agent = initialize_agent(\n",
    "    tools,\n",
    "    chat,\n",
    "    agent=AgentType.OPENAI_FUNCTIONS,\n",
    "    verbose=True,\n",
    "    agent_kwargs=agent_kwargs,\n",
    "    memory=memory,\n",
    ")"
   ]
  },
  {
   "cell_type": "code",
   "execution_count": 7,
   "id": "c8f06563-7173-4bb5-96e2-f9afcfe5fe10",
   "metadata": {},
   "outputs": [],
   "source": [
    "# while True:\n",
    "#     msg = str(input(\"Your question: \"))\n",
    "#     run_context= \"\"\"Regel 1: Beim Beantworten aller folgenden Fragen, merke dir, wenn dir wiederholt die selbe Antwort gestellt wird und weise darauf hin.\n",
    "#     Regel 2: Du musst! Fragen beantworten zu denen du auch die Information hast, du kannst nicht einfach auf die Website referenzieren!\"\"\"\n",
    "#     print(agent.run(run_context+msg))\n",
    "#     #print(memory)\n",
    "\n",
    "#     #print(memory.chat_memory)\n",
    "\n",
    "#     if len(memory.chat_memory.messages) > 4:\n",
    "#         del memory.chat_memory.messages[2]\n",
    "#         del memory.chat_memory.messages[2]"
   ]
  },
  {
   "cell_type": "code",
   "execution_count": null,
   "id": "63747d40-a299-4bdb-bbd0-fc68e2f429aa",
   "metadata": {},
   "outputs": [],
   "source": []
  }
 ],
 "metadata": {
  "kernelspec": {
   "display_name": "Python 3 (ipykernel)",
   "language": "python",
   "name": "python3"
  },
  "language_info": {
   "codemirror_mode": {
    "name": "ipython",
    "version": 3
   },
   "file_extension": ".py",
   "mimetype": "text/x-python",
   "name": "python",
   "nbconvert_exporter": "python",
   "pygments_lexer": "ipython3",
   "version": "3.12.1"
  }
 },
 "nbformat": 4,
 "nbformat_minor": 5
}
