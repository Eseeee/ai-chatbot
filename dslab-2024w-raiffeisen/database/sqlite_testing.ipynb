{
 "cells": [
  {
   "cell_type": "code",
   "execution_count": 1,
   "id": "91a94391-fe80-4817-b11f-5151f592e898",
   "metadata": {},
   "outputs": [],
   "source": [
    "import sqlite3\n",
    "import pandas as pd"
   ]
  },
  {
   "cell_type": "code",
   "execution_count": 2,
   "id": "d57fb792-53e6-4771-aad5-e76aee903f38",
   "metadata": {},
   "outputs": [],
   "source": [
    "conn = sqlite3.connect(\"./database/raika.db\")\n",
    "c = conn.cursor()\n",
    "myDF = pd.read_excel(\"./database/xl_für_Raiffeisen.xlsx\")"
   ]
  },
  {
   "cell_type": "code",
   "execution_count": 3,
   "id": "00e201df-6bb1-44cf-b64d-0e784ac289a4",
   "metadata": {},
   "outputs": [],
   "source": [
    "myDF.to_sql(name = \"raika\", con= conn)\n",
    "conn.commit()"
   ]
  },
  {
   "cell_type": "code",
   "execution_count": 4,
   "id": "0b987fef-d6f7-419f-8041-2d48e21065b6",
   "metadata": {},
   "outputs": [],
   "source": [
    "cheese = c.execute(\"SELECT COUNT('Selbstbedienung Auszahlung Banknoten') FROM raika\")"
   ]
  },
  {
   "cell_type": "code",
   "execution_count": 5,
   "id": "e642af8b-e17e-4fad-a2ef-25365919ef7d",
   "metadata": {},
   "outputs": [
    {
     "name": "stdout",
     "output_type": "stream",
     "text": [
      "[(20,)]\n"
     ]
    }
   ],
   "source": [
    "print(cheese.fetchall())\n",
    "c.close()"
   ]
  },
  {
   "cell_type": "code",
   "execution_count": 6,
   "id": "ec0d4f66-e3c4-4b5f-a6ac-4d37ede05b3e",
   "metadata": {},
   "outputs": [],
   "source": [
    "#c=conn.cursor()\n",
    "#c.execute(\"\"\" CREATE TABLE IF NOT EXISTS raika (\n",
    "#                                        filliale text PRIMARY KEY,\n",
    "#                                        telefonnummer text,\n",
    "#                                        beratungszeiten text,\n",
    "#                                        Kassazeiten text,\n",
    "#                                        selbstbedienungsverfügbarkeit text,\n",
    "#                                        Selbstbedienung Auszahlung Banknoten,\n",
    "#                                        Selbstedienung - Einzahlung Banknoten,\n",
    "#                                        Selbstedienung - Kontoauszug,\n",
    "#                                        Selbstedienung - Kontostands-abfrage,\n",
    "#                                        Selbstedienung - Überweisung,\n",
    "#                                        Selbstedienung - Einzahlung Münzen,\n",
    "#                                        Selbstedienung - Handywertkarte laden,\n",
    "#                                        Selbstedienung - 24h SB-Safeanlage,\n",
    "#                                        Outdoor Verfügbarkeit,\n",
    "#                                        Outdoor - Auszahlung Banknoten,\n",
    "#                                        Outdoor - Kontostands-abfrage,\n",
    "#                                        Outdoor - Handywertkarte laden\n",
    "#                                        );\"\"\")\n",
    "#\n",
    "#c.execute(\"\"\" INSERT INTO raika(filliale,telefonnummer,beratungszeiten,Kassazeiten,selbstbedienungsverfügbarkeit)\n",
    "#              VALUES('Seilergasse 8',' +43 5 1700-62000','08:00-18:00','09:00-15:00','00:00-24:00') \"\"\")\n",
    "#c.execute(\"\"\" INSERT INTO raika(filliale,telefonnummer,beratungszeiten,Kassazeiten,selbstbedienungsverfügbarkeit)\n",
    "#              VALUES('Seilergasse 8',' +43 5 1700-62000','08:00-18:00','09:00-15:00','00:00-24:00') \"\"\")\n",
    "#conn.commit()"
   ]
  }
 ],
 "metadata": {
  "kernelspec": {
   "display_name": "Python 3 (ipykernel)",
   "language": "python",
   "name": "python3"
  },
  "language_info": {
   "codemirror_mode": {
    "name": "ipython",
    "version": 3
   },
   "file_extension": ".py",
   "mimetype": "text/x-python",
   "name": "python",
   "nbconvert_exporter": "python",
   "pygments_lexer": "ipython3",
   "version": "3.10.8"
  }
 },
 "nbformat": 4,
 "nbformat_minor": 5
}
