{
 "cells": [
  {
   "cell_type": "code",
   "execution_count": 1,
   "id": "d71e1a70-abd5-4a72-8812-85e5bd50df57",
   "metadata": {},
   "outputs": [],
   "source": [
    "import constants.constants as constants\n",
    "import prompts.prompt_classifier as prompt_classifier\n",
    "import prompts.prompt_banking as prompt_banking\n",
    "import prompts.prompt_cards as prompt_card\n",
    "import prompts.prompt_oeffnungszeiten as prompt_oeffnungszeiten\n",
    "import functions.functions as functions\n",
    "\n",
    "from langchain.chat_models import ChatOpenAI\n",
    "from langchain.schema import AIMessage, HumanMessage, SystemMessage\n",
    "from langchain.tools import tool\n",
    "from langchain.agents import initialize_agent\n",
    "from langchain.agents import AgentType\n",
    "\n",
    "from langchain.prompts import ChatPromptTemplate\n",
    "from langchain.utilities import SQLDatabase\n",
    "from langchain.schema.runnable import RunnablePassthrough\n",
    "from langchain.schema.output_parser import StrOutputParser"
   ]
  },
  {
   "cell_type": "code",
   "execution_count": 2,
   "id": "53a037c1-d8e8-426e-80fb-dfe69dfa9caf",
   "metadata": {},
   "outputs": [],
   "source": [
    "chat = ChatOpenAI(openai_api_key=constants.OPENAI_API_KEY)\n",
    "\n",
    "\n",
    "@tool\n",
    "def debit_card_information(question):\n",
    "    \"\"\"Beantwortet Fragen zu dem Thema: Sperren von Bankomat-, Debit- und Kreditkarten.\"\"\"\n",
    "    messages = [\n",
    "        SystemMessage(content=prompt_card.prompt_cards),\n",
    "        HumanMessage(content=question)\n",
    "    ]\n",
    "\n",
    "    return chat.predict_messages(messages)\n",
    "@tool\n",
    "def banking_information(question):\n",
    "    \"\"\"Beantwortet Fragen zu dem Thema: Sperren des Online-Bankings.\"\"\"\n",
    "    messages = [\n",
    "        SystemMessage(content=prompt_banking.prompt_banking),\n",
    "        HumanMessage(content=question)\n",
    "    ]\n",
    "\n",
    "    return chat.predict_messages(messages)\n",
    "\n"
   ]
  },
  {
   "cell_type": "code",
   "execution_count": 3,
   "id": "be60fc24-1158-48c6-8e3c-47ba6cc7f6cf",
   "metadata": {},
   "outputs": [],
   "source": [
    "db = SQLDatabase.from_uri(\"sqlite:///./database/raika.db\")"
   ]
  },
  {
   "cell_type": "code",
   "execution_count": 4,
   "id": "6e10deff-1ce3-4709-a94f-4727def45da4",
   "metadata": {},
   "outputs": [],
   "source": [
    "def get_schema(_):\n",
    "    return db.get_table_info()"
   ]
  },
  {
   "cell_type": "code",
   "execution_count": 5,
   "id": "c8f06563-7173-4bb5-96e2-f9afcfe5fe10",
   "metadata": {},
   "outputs": [],
   "source": [
    "def run_query(query):\n",
    "    return db.run(query)"
   ]
  },
  {
   "cell_type": "code",
   "execution_count": 6,
   "id": "7b5c3c4f-b152-4a83-8e7a-0a530477509a",
   "metadata": {},
   "outputs": [],
   "source": [
    "## wir arbeiten hier\n",
    "@tool\n",
    "def banking_oeffnungszeiten(question):\n",
    "    \"\"\"Beantwortet Fragen zu dem Thema: Öffnungszeiten von Banken.\"\"\"\n",
    "    template = \"\"\"Based on the table schema below, write a SQL query that would answer the user's question:\n",
    "    {schema}\n",
    "\n",
    "    Question: {question}\n",
    "    SQL Query:\"\"\"\n",
    "    prompt = ChatPromptTemplate.from_template(template)\n",
    "    model = ChatOpenAI(openai_api_key=constants.OPENAI_API_KEY)\n",
    "\n",
    "    sql_response = (\n",
    "        RunnablePassthrough.assign(schema=get_schema)\n",
    "        | prompt\n",
    "        | model.bind(stop=[\"\\nSQLResult:\"])\n",
    "        | StrOutputParser()\n",
    "    )\n",
    "    sql_response.invoke({\"question\": question})\n",
    "    template = \"\"\"Based on the table schema below, question, sql query, and sql response, write a natural language response:\n",
    "    {schema}\n",
    "\n",
    "    Question: {question}\n",
    "    SQL Query: {query}\n",
    "    SQL Response: {response}\"\"\"\n",
    "    prompt_response = ChatPromptTemplate.from_template(template)\n",
    "    full_chain = (\n",
    "    RunnablePassthrough.assign(query=sql_response)\n",
    "    | RunnablePassthrough.assign(\n",
    "        schema=get_schema,\n",
    "        response=lambda x: db.run(x[\"query\"]),\n",
    "    )\n",
    "    | prompt_response\n",
    "    | model\n",
    "    )\n",
    "    \n",
    "    return full_chain.invoke({\"question\": question})\n"
   ]
  },
  {
   "cell_type": "code",
   "execution_count": 8,
   "id": "4a0cc207-4ef9-4a40-beee-f9816781ef4b",
   "metadata": {},
   "outputs": [],
   "source": [
    "# import time\n",
    "tools = [debit_card_information, banking_information, banking_oeffnungszeiten]\n",
    "messages = [\n",
    "     SystemMessage(content=prompt_classifier.system_message),\n",
    "    first_ai_msg := AIMessage(content=\"Hier ist der Chatbot der Raiffeisenlandesbank Niederösterreich-Wien. Gerne beantworte ich Ihre Fragen zur Sperre von Debit- und Kreditkarten sowie zur Sperre des Online-Bankings.\"),\n",
    " ]\n",
    "\n",
    "\n",
    "# print(first_ai_msg.content)\n",
    "# question_of_user = str(input(\"\"))\n",
    "# start = time.time()\n",
    "# messages.append(HumanMessage(content=question_of_user))\n",
    "\n",
    "\n",
    "# mrkl = initialize_agent(tools, chat, agent=AgentType.OPENAI_FUNCTIONS, verbose=True)\n",
    "# print(mrkl.run(messages))\n",
    "# end = time.time()\n",
    "\n",
    "# print(end - start)"
   ]
  },
  {
   "cell_type": "code",
   "execution_count": null,
   "id": "c201ae99-aa6d-477a-8965-a0d5465e59d0",
   "metadata": {},
   "outputs": [],
   "source": []
  },
  {
   "cell_type": "code",
   "execution_count": null,
   "id": "63747d40-a299-4bdb-bbd0-fc68e2f429aa",
   "metadata": {},
   "outputs": [],
   "source": []
  }
 ],
 "metadata": {
  "kernelspec": {
   "display_name": "Python 3 (ipykernel)",
   "language": "python",
   "name": "python3"
  },
  "language_info": {
   "codemirror_mode": {
    "name": "ipython",
    "version": 3
   },
   "file_extension": ".py",
   "mimetype": "text/x-python",
   "name": "python",
   "nbconvert_exporter": "python",
   "pygments_lexer": "ipython3",
   "version": "3.12.1"
  }
 },
 "nbformat": 4,
 "nbformat_minor": 5
}
