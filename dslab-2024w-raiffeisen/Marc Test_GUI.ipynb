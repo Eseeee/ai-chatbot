{
 "cells": [
  {
   "cell_type": "code",
   "execution_count": 2,
   "id": "6b4d70ae-c53e-44ad-aef3-401c7c25ec4a",
   "metadata": {},
   "outputs": [
    {
     "ename": "SyntaxError",
     "evalue": "invalid syntax (3759338409.py, line 1)",
     "output_type": "error",
     "traceback": [
      "\u001b[0;36m  Cell \u001b[0;32mIn[2], line 1\u001b[0;36m\u001b[0m\n\u001b[0;31m    jupyter serverextension enable --py nbzip\u001b[0m\n\u001b[0m            ^\u001b[0m\n\u001b[0;31mSyntaxError\u001b[0m\u001b[0;31m:\u001b[0m invalid syntax\n"
     ]
    }
   ],
   "source": [
    "pip install nbzip"
   ]
  },
  {
   "cell_type": "code",
   "execution_count": 7,
   "id": "2b6ab666-b1be-4639-adb9-93690b1a544b",
   "metadata": {},
   "outputs": [
    {
     "name": "stdout",
     "output_type": "stream",
     "text": [
      "no display found. Using :0.0\n"
     ]
    },
    {
     "ename": "NameError",
     "evalue": "name 'tk' is not defined",
     "output_type": "error",
     "traceback": [
      "\u001b[0;31m---------------------------------------------------------------------------\u001b[0m",
      "\u001b[0;31mNameError\u001b[0m                                 Traceback (most recent call last)",
      "Cell \u001b[0;32mIn[7], line 8\u001b[0m\n\u001b[1;32m      5\u001b[0m     os\u001b[38;5;241m.\u001b[39menviron\u001b[38;5;241m.\u001b[39m\u001b[38;5;21m__setitem__\u001b[39m(\u001b[38;5;124m'\u001b[39m\u001b[38;5;124mDISPLAY\u001b[39m\u001b[38;5;124m'\u001b[39m, \u001b[38;5;124m'\u001b[39m\u001b[38;5;124m:0.0\u001b[39m\u001b[38;5;124m'\u001b[39m)\n\u001b[1;32m      7\u001b[0m setting \u001b[38;5;241m=\u001b[39m os\u001b[38;5;241m.\u001b[39menviron\u001b[38;5;241m.\u001b[39m\u001b[38;5;21m__getitem__\u001b[39m(\u001b[38;5;124m'\u001b[39m\u001b[38;5;124mDISPLAY\u001b[39m\u001b[38;5;124m'\u001b[39m)\n\u001b[0;32m----> 8\u001b[0m window \u001b[38;5;241m=\u001b[39m \u001b[43mtk\u001b[49m\u001b[38;5;241m.\u001b[39mTk(screenName \u001b[38;5;241m=\u001b[39m setting)\n",
      "\u001b[0;31mNameError\u001b[0m: name 'tk' is not defined"
     ]
    }
   ],
   "source": [
    "import os\n",
    "\n",
    "if os.environ.get('DISPLAY','') == '':\n",
    "    print('no display found. Using :0.0')\n",
    "    os.environ.__setitem__('DISPLAY', ':0.0')\n",
    "    \n",
    "setting = os.environ.__getitem__('DISPLAY')\n",
    "window = tk.Tk(screenName = setting)"
   ]
  },
  {
   "cell_type": "code",
   "execution_count": 8,
   "id": "15b27865-2aff-4ec6-b74d-47967ca5cf1d",
   "metadata": {},
   "outputs": [
    {
     "ename": "TclError",
     "evalue": "couldn't connect to display \":0.0\"",
     "output_type": "error",
     "traceback": [
      "\u001b[0;31m---------------------------------------------------------------------------\u001b[0m",
      "\u001b[0;31mTclError\u001b[0m                                  Traceback (most recent call last)",
      "Cell \u001b[0;32mIn[8], line 1\u001b[0m\n\u001b[0;32m----> 1\u001b[0m root \u001b[38;5;241m=\u001b[39m \u001b[43mtkinter\u001b[49m\u001b[38;5;241;43m.\u001b[39;49m\u001b[43mTk\u001b[49m\u001b[43m(\u001b[49m\u001b[43m)\u001b[49m\n\u001b[1;32m      3\u001b[0m label \u001b[38;5;241m=\u001b[39m tkinter\u001b[38;5;241m.\u001b[39mLabel(root, )\n\u001b[1;32m      4\u001b[0m label\u001b[38;5;241m.\u001b[39mpack()\n",
      "File \u001b[0;32m/opt/conda/lib/python3.10/tkinter/__init__.py:2299\u001b[0m, in \u001b[0;36mTk.__init__\u001b[0;34m(self, screenName, baseName, className, useTk, sync, use)\u001b[0m\n\u001b[1;32m   2297\u001b[0m         baseName \u001b[38;5;241m=\u001b[39m baseName \u001b[38;5;241m+\u001b[39m ext\n\u001b[1;32m   2298\u001b[0m interactive \u001b[38;5;241m=\u001b[39m \u001b[38;5;28;01mFalse\u001b[39;00m\n\u001b[0;32m-> 2299\u001b[0m \u001b[38;5;28mself\u001b[39m\u001b[38;5;241m.\u001b[39mtk \u001b[38;5;241m=\u001b[39m \u001b[43m_tkinter\u001b[49m\u001b[38;5;241;43m.\u001b[39;49m\u001b[43mcreate\u001b[49m\u001b[43m(\u001b[49m\u001b[43mscreenName\u001b[49m\u001b[43m,\u001b[49m\u001b[43m \u001b[49m\u001b[43mbaseName\u001b[49m\u001b[43m,\u001b[49m\u001b[43m \u001b[49m\u001b[43mclassName\u001b[49m\u001b[43m,\u001b[49m\u001b[43m \u001b[49m\u001b[43minteractive\u001b[49m\u001b[43m,\u001b[49m\u001b[43m \u001b[49m\u001b[43mwantobjects\u001b[49m\u001b[43m,\u001b[49m\u001b[43m \u001b[49m\u001b[43museTk\u001b[49m\u001b[43m,\u001b[49m\u001b[43m \u001b[49m\u001b[43msync\u001b[49m\u001b[43m,\u001b[49m\u001b[43m \u001b[49m\u001b[43muse\u001b[49m\u001b[43m)\u001b[49m\n\u001b[1;32m   2300\u001b[0m \u001b[38;5;28;01mif\u001b[39;00m useTk:\n\u001b[1;32m   2301\u001b[0m     \u001b[38;5;28mself\u001b[39m\u001b[38;5;241m.\u001b[39m_loadtk()\n",
      "\u001b[0;31mTclError\u001b[0m: couldn't connect to display \":0.0\""
     ]
    }
   ],
   "source": [
    "root = tkinter.Tk()\n",
    "\n",
    "label = tkinter.Label(root, )\n",
    "label.pack()"
   ]
  },
  {
   "cell_type": "code",
   "execution_count": 9,
   "id": "eb1280bd-3703-4885-9a61-466c800032cf",
   "metadata": {},
   "outputs": [
    {
     "ename": "TclError",
     "evalue": "couldn't connect to display \":0.0\"",
     "output_type": "error",
     "traceback": [
      "\u001b[0;31m---------------------------------------------------------------------------\u001b[0m",
      "\u001b[0;31mTclError\u001b[0m                                  Traceback (most recent call last)",
      "Cell \u001b[0;32mIn[9], line 3\u001b[0m\n\u001b[1;32m      1\u001b[0m \u001b[38;5;28;01mimport\u001b[39;00m \u001b[38;5;21;01mPySimpleGUI\u001b[39;00m \u001b[38;5;28;01mas\u001b[39;00m \u001b[38;5;21;01msg\u001b[39;00m\n\u001b[0;32m----> 3\u001b[0m \u001b[43msg\u001b[49m\u001b[38;5;241;43m.\u001b[39;49m\u001b[43mWindow\u001b[49m\u001b[43m(\u001b[49m\u001b[43mtitle\u001b[49m\u001b[38;5;241;43m=\u001b[39;49m\u001b[38;5;124;43m\"\u001b[39;49m\u001b[38;5;124;43mHello World\u001b[39;49m\u001b[38;5;124;43m\"\u001b[39;49m\u001b[43m,\u001b[49m\u001b[43m \u001b[49m\u001b[43mlayout\u001b[49m\u001b[38;5;241;43m=\u001b[39;49m\u001b[43m[\u001b[49m\u001b[43m[\u001b[49m\u001b[43m]\u001b[49m\u001b[43m]\u001b[49m\u001b[43m,\u001b[49m\u001b[43m \u001b[49m\u001b[43mmargins\u001b[49m\u001b[38;5;241;43m=\u001b[39;49m\u001b[43m(\u001b[49m\u001b[38;5;241;43m100\u001b[39;49m\u001b[43m,\u001b[49m\u001b[43m \u001b[49m\u001b[38;5;241;43m50\u001b[39;49m\u001b[43m)\u001b[49m\u001b[43m)\u001b[49m\u001b[38;5;241;43m.\u001b[39;49m\u001b[43mread\u001b[49m\u001b[43m(\u001b[49m\u001b[43m)\u001b[49m\n",
      "File \u001b[0;32m/opt/conda/lib/python3.10/site-packages/PySimpleGUI/PySimpleGUI.py:10079\u001b[0m, in \u001b[0;36mWindow.read\u001b[0;34m(self, timeout, timeout_key, close)\u001b[0m\n\u001b[1;32m  10077\u001b[0m \u001b[38;5;28;01mwhile\u001b[39;00m \u001b[38;5;28;01mTrue\u001b[39;00m:\n\u001b[1;32m  10078\u001b[0m     Window\u001b[38;5;241m.\u001b[39m_root_running_mainloop \u001b[38;5;241m=\u001b[39m \u001b[38;5;28mself\u001b[39m\u001b[38;5;241m.\u001b[39mTKroot\n\u001b[0;32m> 10079\u001b[0m     results \u001b[38;5;241m=\u001b[39m \u001b[38;5;28;43mself\u001b[39;49m\u001b[38;5;241;43m.\u001b[39;49m\u001b[43m_read\u001b[49m\u001b[43m(\u001b[49m\u001b[43mtimeout\u001b[49m\u001b[38;5;241;43m=\u001b[39;49m\u001b[43mtimeout\u001b[49m\u001b[43m,\u001b[49m\u001b[43m \u001b[49m\u001b[43mtimeout_key\u001b[49m\u001b[38;5;241;43m=\u001b[39;49m\u001b[43mtimeout_key\u001b[49m\u001b[43m)\u001b[49m\n\u001b[1;32m  10080\u001b[0m     \u001b[38;5;28;01mif\u001b[39;00m results \u001b[38;5;129;01mis\u001b[39;00m \u001b[38;5;129;01mnot\u001b[39;00m \u001b[38;5;28;01mNone\u001b[39;00m:\n\u001b[1;32m  10081\u001b[0m         \u001b[38;5;28;01mif\u001b[39;00m results[\u001b[38;5;241m0\u001b[39m] \u001b[38;5;241m==\u001b[39m DEFAULT_WINDOW_SNAPSHOT_KEY:\n",
      "File \u001b[0;32m/opt/conda/lib/python3.10/site-packages/PySimpleGUI/PySimpleGUI.py:10150\u001b[0m, in \u001b[0;36mWindow._read\u001b[0;34m(self, timeout, timeout_key)\u001b[0m\n\u001b[1;32m  10148\u001b[0m     \u001b[38;5;28;01mreturn\u001b[39;00m \u001b[38;5;28;01mNone\u001b[39;00m, \u001b[38;5;28;01mNone\u001b[39;00m\n\u001b[1;32m  10149\u001b[0m \u001b[38;5;28;01mif\u001b[39;00m \u001b[38;5;129;01mnot\u001b[39;00m \u001b[38;5;28mself\u001b[39m\u001b[38;5;241m.\u001b[39mShown:\n\u001b[0;32m> 10150\u001b[0m     \u001b[38;5;28;43mself\u001b[39;49m\u001b[38;5;241;43m.\u001b[39;49m\u001b[43m_Show\u001b[49m\u001b[43m(\u001b[49m\u001b[43m)\u001b[49m\n\u001b[1;32m  10151\u001b[0m \u001b[38;5;28;01melse\u001b[39;00m:\n\u001b[1;32m  10152\u001b[0m     \u001b[38;5;66;03m# if already have a button waiting, the return previously built results\u001b[39;00m\n\u001b[1;32m  10153\u001b[0m     \u001b[38;5;28;01mif\u001b[39;00m \u001b[38;5;28mself\u001b[39m\u001b[38;5;241m.\u001b[39mLastButtonClicked \u001b[38;5;129;01mis\u001b[39;00m \u001b[38;5;129;01mnot\u001b[39;00m \u001b[38;5;28;01mNone\u001b[39;00m \u001b[38;5;129;01mand\u001b[39;00m \u001b[38;5;129;01mnot\u001b[39;00m \u001b[38;5;28mself\u001b[39m\u001b[38;5;241m.\u001b[39mLastButtonClickedWasRealtime:\n",
      "File \u001b[0;32m/opt/conda/lib/python3.10/site-packages/PySimpleGUI/PySimpleGUI.py:9890\u001b[0m, in \u001b[0;36mWindow._Show\u001b[0;34m(self, non_blocking)\u001b[0m\n\u001b[1;32m   9888\u001b[0m     \u001b[38;5;28mself\u001b[39m\u001b[38;5;241m.\u001b[39mUseDefaultFocus \u001b[38;5;241m=\u001b[39m \u001b[38;5;28;01mFalse\u001b[39;00m\n\u001b[1;32m   9889\u001b[0m \u001b[38;5;66;03m# -=-=-=-=-=-=-=-=- RUN the GUI -=-=-=-=-=-=-=-=- ##\u001b[39;00m\n\u001b[0;32m-> 9890\u001b[0m \u001b[43mStartupTK\u001b[49m\u001b[43m(\u001b[49m\u001b[38;5;28;43mself\u001b[39;49m\u001b[43m)\u001b[49m\n\u001b[1;32m   9891\u001b[0m \u001b[38;5;66;03m# If a button or keyboard event happened but no results have been built, build the results\u001b[39;00m\n\u001b[1;32m   9892\u001b[0m \u001b[38;5;28;01mif\u001b[39;00m \u001b[38;5;28mself\u001b[39m\u001b[38;5;241m.\u001b[39mLastKeyboardEvent \u001b[38;5;129;01mis\u001b[39;00m \u001b[38;5;129;01mnot\u001b[39;00m \u001b[38;5;28;01mNone\u001b[39;00m \u001b[38;5;129;01mor\u001b[39;00m \u001b[38;5;28mself\u001b[39m\u001b[38;5;241m.\u001b[39mLastButtonClicked \u001b[38;5;129;01mis\u001b[39;00m \u001b[38;5;129;01mnot\u001b[39;00m \u001b[38;5;28;01mNone\u001b[39;00m:\n",
      "File \u001b[0;32m/opt/conda/lib/python3.10/site-packages/PySimpleGUI/PySimpleGUI.py:16824\u001b[0m, in \u001b[0;36mStartupTK\u001b[0;34m(window)\u001b[0m\n\u001b[1;32m  16822\u001b[0m     root \u001b[38;5;241m=\u001b[39m tk\u001b[38;5;241m.\u001b[39mToplevel(class_\u001b[38;5;241m=\u001b[39mwindow\u001b[38;5;241m.\u001b[39mTitle)\n\u001b[1;32m  16823\u001b[0m \u001b[38;5;28;01melse\u001b[39;00m:\n\u001b[0;32m> 16824\u001b[0m     root \u001b[38;5;241m=\u001b[39m \u001b[43mtk\u001b[49m\u001b[38;5;241;43m.\u001b[39;49m\u001b[43mToplevel\u001b[49m\u001b[43m(\u001b[49m\u001b[43mclass_\u001b[49m\u001b[38;5;241;43m=\u001b[39;49m\u001b[43mwindow\u001b[49m\u001b[38;5;241;43m.\u001b[39;49m\u001b[43mTitle\u001b[49m\u001b[43m)\u001b[49m\n\u001b[1;32m  16825\u001b[0m \u001b[38;5;28;01mif\u001b[39;00m window\u001b[38;5;241m.\u001b[39mDebuggerEnabled:\n\u001b[1;32m  16826\u001b[0m     root\u001b[38;5;241m.\u001b[39mbind(\u001b[38;5;124m'\u001b[39m\u001b[38;5;124m<Cancel>\u001b[39m\u001b[38;5;124m'\u001b[39m, window\u001b[38;5;241m.\u001b[39m_callback_main_debugger_window_create_keystroke)\n",
      "File \u001b[0;32m/opt/conda/lib/python3.10/tkinter/__init__.py:2650\u001b[0m, in \u001b[0;36mToplevel.__init__\u001b[0;34m(self, master, cnf, **kw)\u001b[0m\n\u001b[1;32m   2648\u001b[0m         extra \u001b[38;5;241m=\u001b[39m extra \u001b[38;5;241m+\u001b[39m (opt, val)\n\u001b[1;32m   2649\u001b[0m         \u001b[38;5;28;01mdel\u001b[39;00m cnf[wmkey]\n\u001b[0;32m-> 2650\u001b[0m \u001b[43mBaseWidget\u001b[49m\u001b[38;5;241;43m.\u001b[39;49m\u001b[38;5;21;43m__init__\u001b[39;49m\u001b[43m(\u001b[49m\u001b[38;5;28;43mself\u001b[39;49m\u001b[43m,\u001b[49m\u001b[43m \u001b[49m\u001b[43mmaster\u001b[49m\u001b[43m,\u001b[49m\u001b[43m \u001b[49m\u001b[38;5;124;43m'\u001b[39;49m\u001b[38;5;124;43mtoplevel\u001b[39;49m\u001b[38;5;124;43m'\u001b[39;49m\u001b[43m,\u001b[49m\u001b[43m \u001b[49m\u001b[43mcnf\u001b[49m\u001b[43m,\u001b[49m\u001b[43m \u001b[49m\u001b[43m{\u001b[49m\u001b[43m}\u001b[49m\u001b[43m,\u001b[49m\u001b[43m \u001b[49m\u001b[43mextra\u001b[49m\u001b[43m)\u001b[49m\n\u001b[1;32m   2651\u001b[0m root \u001b[38;5;241m=\u001b[39m \u001b[38;5;28mself\u001b[39m\u001b[38;5;241m.\u001b[39m_root()\n\u001b[1;32m   2652\u001b[0m \u001b[38;5;28mself\u001b[39m\u001b[38;5;241m.\u001b[39miconname(root\u001b[38;5;241m.\u001b[39miconname())\n",
      "File \u001b[0;32m/opt/conda/lib/python3.10/tkinter/__init__.py:2595\u001b[0m, in \u001b[0;36mBaseWidget.__init__\u001b[0;34m(self, master, widgetName, cnf, kw, extra)\u001b[0m\n\u001b[1;32m   2593\u001b[0m     cnf \u001b[38;5;241m=\u001b[39m _cnfmerge((cnf, kw))\n\u001b[1;32m   2594\u001b[0m \u001b[38;5;28mself\u001b[39m\u001b[38;5;241m.\u001b[39mwidgetName \u001b[38;5;241m=\u001b[39m widgetName\n\u001b[0;32m-> 2595\u001b[0m \u001b[38;5;28;43mself\u001b[39;49m\u001b[38;5;241;43m.\u001b[39;49m\u001b[43m_setup\u001b[49m\u001b[43m(\u001b[49m\u001b[43mmaster\u001b[49m\u001b[43m,\u001b[49m\u001b[43m \u001b[49m\u001b[43mcnf\u001b[49m\u001b[43m)\u001b[49m\n\u001b[1;32m   2596\u001b[0m \u001b[38;5;28;01mif\u001b[39;00m \u001b[38;5;28mself\u001b[39m\u001b[38;5;241m.\u001b[39m_tclCommands \u001b[38;5;129;01mis\u001b[39;00m \u001b[38;5;28;01mNone\u001b[39;00m:\n\u001b[1;32m   2597\u001b[0m     \u001b[38;5;28mself\u001b[39m\u001b[38;5;241m.\u001b[39m_tclCommands \u001b[38;5;241m=\u001b[39m []\n",
      "File \u001b[0;32m/opt/conda/lib/python3.10/tkinter/__init__.py:2562\u001b[0m, in \u001b[0;36mBaseWidget._setup\u001b[0;34m(self, master, cnf)\u001b[0m\n\u001b[1;32m   2560\u001b[0m \u001b[38;5;124;03m\"\"\"Internal function. Sets up information about children.\"\"\"\u001b[39;00m\n\u001b[1;32m   2561\u001b[0m \u001b[38;5;28;01mif\u001b[39;00m master \u001b[38;5;129;01mis\u001b[39;00m \u001b[38;5;28;01mNone\u001b[39;00m:\n\u001b[0;32m-> 2562\u001b[0m     master \u001b[38;5;241m=\u001b[39m \u001b[43m_get_default_root\u001b[49m\u001b[43m(\u001b[49m\u001b[43m)\u001b[49m\n\u001b[1;32m   2563\u001b[0m \u001b[38;5;28mself\u001b[39m\u001b[38;5;241m.\u001b[39mmaster \u001b[38;5;241m=\u001b[39m master\n\u001b[1;32m   2564\u001b[0m \u001b[38;5;28mself\u001b[39m\u001b[38;5;241m.\u001b[39mtk \u001b[38;5;241m=\u001b[39m master\u001b[38;5;241m.\u001b[39mtk\n",
      "File \u001b[0;32m/opt/conda/lib/python3.10/tkinter/__init__.py:298\u001b[0m, in \u001b[0;36m_get_default_root\u001b[0;34m(what)\u001b[0m\n\u001b[1;32m    296\u001b[0m     \u001b[38;5;28;01mif\u001b[39;00m what:\n\u001b[1;32m    297\u001b[0m         \u001b[38;5;28;01mraise\u001b[39;00m \u001b[38;5;167;01mRuntimeError\u001b[39;00m(\u001b[38;5;124mf\u001b[39m\u001b[38;5;124m\"\u001b[39m\u001b[38;5;124mToo early to \u001b[39m\u001b[38;5;132;01m{\u001b[39;00mwhat\u001b[38;5;132;01m}\u001b[39;00m\u001b[38;5;124m: no default root window\u001b[39m\u001b[38;5;124m\"\u001b[39m)\n\u001b[0;32m--> 298\u001b[0m     root \u001b[38;5;241m=\u001b[39m \u001b[43mTk\u001b[49m\u001b[43m(\u001b[49m\u001b[43m)\u001b[49m\n\u001b[1;32m    299\u001b[0m     \u001b[38;5;28;01massert\u001b[39;00m _default_root \u001b[38;5;129;01mis\u001b[39;00m root\n\u001b[1;32m    300\u001b[0m \u001b[38;5;28;01mreturn\u001b[39;00m _default_root\n",
      "File \u001b[0;32m/opt/conda/lib/python3.10/tkinter/__init__.py:2299\u001b[0m, in \u001b[0;36mTk.__init__\u001b[0;34m(self, screenName, baseName, className, useTk, sync, use)\u001b[0m\n\u001b[1;32m   2297\u001b[0m         baseName \u001b[38;5;241m=\u001b[39m baseName \u001b[38;5;241m+\u001b[39m ext\n\u001b[1;32m   2298\u001b[0m interactive \u001b[38;5;241m=\u001b[39m \u001b[38;5;28;01mFalse\u001b[39;00m\n\u001b[0;32m-> 2299\u001b[0m \u001b[38;5;28mself\u001b[39m\u001b[38;5;241m.\u001b[39mtk \u001b[38;5;241m=\u001b[39m \u001b[43m_tkinter\u001b[49m\u001b[38;5;241;43m.\u001b[39;49m\u001b[43mcreate\u001b[49m\u001b[43m(\u001b[49m\u001b[43mscreenName\u001b[49m\u001b[43m,\u001b[49m\u001b[43m \u001b[49m\u001b[43mbaseName\u001b[49m\u001b[43m,\u001b[49m\u001b[43m \u001b[49m\u001b[43mclassName\u001b[49m\u001b[43m,\u001b[49m\u001b[43m \u001b[49m\u001b[43minteractive\u001b[49m\u001b[43m,\u001b[49m\u001b[43m \u001b[49m\u001b[43mwantobjects\u001b[49m\u001b[43m,\u001b[49m\u001b[43m \u001b[49m\u001b[43museTk\u001b[49m\u001b[43m,\u001b[49m\u001b[43m \u001b[49m\u001b[43msync\u001b[49m\u001b[43m,\u001b[49m\u001b[43m \u001b[49m\u001b[43muse\u001b[49m\u001b[43m)\u001b[49m\n\u001b[1;32m   2300\u001b[0m \u001b[38;5;28;01mif\u001b[39;00m useTk:\n\u001b[1;32m   2301\u001b[0m     \u001b[38;5;28mself\u001b[39m\u001b[38;5;241m.\u001b[39m_loadtk()\n",
      "\u001b[0;31mTclError\u001b[0m: couldn't connect to display \":0.0\""
     ]
    }
   ],
   "source": [
    "\n",
    "import PySimpleGUI as sg\n",
    "\n",
    "sg.Window(title=\"Hello World\", layout=[[]], margins=(100, 50)).read()"
   ]
  },
  {
   "cell_type": "code",
   "execution_count": null,
   "id": "b3c59d8b-8589-4e4e-b740-878f2b9b49c1",
   "metadata": {},
   "outputs": [],
   "source": []
  }
 ],
 "metadata": {
  "kernelspec": {
   "display_name": "Python 3 (ipykernel)",
   "language": "python",
   "name": "python3"
  },
  "language_info": {
   "codemirror_mode": {
    "name": "ipython",
    "version": 3
   },
   "file_extension": ".py",
   "mimetype": "text/x-python",
   "name": "python",
   "nbconvert_exporter": "python",
   "pygments_lexer": "ipython3",
   "version": "3.10.8"
  }
 },
 "nbformat": 4,
 "nbformat_minor": 5
}
